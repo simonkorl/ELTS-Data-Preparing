{
 "cells": [
  {
   "cell_type": "code",
   "execution_count": 2,
   "metadata": {
    "tags": []
   },
   "outputs": [],
   "source": [
    "# inpect TED data\n",
    "import json\n",
    "from SumCollector import SumCollector\n",
    "\n",
    "ted_zh = \"/search/odin/data/summarization_data/ted_data/ted_zh_json\"\n",
    "custom_ted_zh = \"/search/odin/data/summarization_data/custom_data/custom_ted_train_data\""
   ]
  },
  {
   "cell_type": "code",
   "execution_count": 6,
   "metadata": {
    "tags": []
   },
   "outputs": [
    {
     "output_type": "stream",
     "name": "stdout",
     "text": "---------------average length --------------\nsummary: 101.794924\ntext: 4214.249746\n-----------------------max min length --------------\nmax text length: 11282\nmin text length: 265\n----------------------text number statistics ---------------\n0+:\t985\t100.00\n1000+:\t973\t98.78\n2000+:\t918\t93.20\n3000+:\t781\t79.29\n4000+:\t552\t56.04\n5000+:\t282\t28.63\n6000+:\t91\t9.24\n7000+:\t35\t3.55\n8000+:\t13\t1.32\n9000+:\t6\t0.61\n10000+:\t5\t0.51\n11000+:\t1\t0.10\n12000+:\t0\t0.00\n13000+:\t0\t0.00\n14000+:\t0\t0.00\n15000+:\t0\t0.00\n16000+:\t0\t0.00\n17000+:\t0\t0.00\n18000+:\t0\t0.00\n19000+:\t0\t0.00\n20000+:\t0\t0.00\n"
    }
   ],
   "source": [
    "# # collect data\n",
    "# collector = SumCollector()\n",
    "\n",
    "# with open(ted_zh, 'r', encoding='utf-8') as file:\n",
    "#     line = file.readline().strip('\\r\\n')\n",
    "#     while(line):\n",
    "#         jsonline = json.loads(line)\n",
    "#         summary = jsonline['full_abs']\n",
    "#         text_list = jsonline['document']\n",
    "#         text = ''.join(text_list)\n",
    "#         collector.add_summ_pair(summary, text)\n",
    "#         line = file.readline().strip('\\r\\n')\n",
    "# collector.print_stats()"
   ]
  },
  {
   "cell_type": "code",
   "execution_count": null,
   "metadata": {},
   "outputs": [],
   "source": [
    "# collector.dump_data(\"/search/odin/data/summarization_data/custom_data/custom_ted_train_data\")"
   ]
  },
  {
   "cell_type": "code",
   "execution_count": 3,
   "metadata": {
    "tags": []
   },
   "outputs": [
    {
     "output_type": "stream",
     "name": "stdout",
     "text": "loading from file: /search/odin/data/summarization_data/custom_data/custom_ted_train_data\nloading finished. Time: 0\n"
    }
   ],
   "source": [
    "# load data\n",
    "collector = SumCollector()\n",
    "\n",
    "collector.load_data(custom_ted_zh)"
   ]
  },
  {
   "cell_type": "code",
   "execution_count": null,
   "metadata": {},
   "outputs": [],
   "source": [
    "i = 0\n",
    "\n",
    "print(collector.data[i][\"summary\"])\n",
    "print(collector.data[i][\"text\"][:1000])"
   ]
  }
 ],
 "metadata": {
  "language_info": {
   "codemirror_mode": {
    "name": "ipython",
    "version": 3
   },
   "file_extension": ".py",
   "mimetype": "text/x-python",
   "name": "python",
   "nbconvert_exporter": "python",
   "pygments_lexer": "ipython3",
   "version": "3.7.1-final"
  },
  "orig_nbformat": 2,
  "kernelspec": {
   "name": "python3",
   "display_name": "Python 3"
  }
 },
 "nbformat": 4,
 "nbformat_minor": 2
}