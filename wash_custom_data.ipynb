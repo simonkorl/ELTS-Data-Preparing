{
 "cells": [
  {
   "cell_type": "code",
   "execution_count": 1,
   "metadata": {
    "tags": []
   },
   "outputs": [],
   "source": [
    "from SumCollector import SumCollector\n",
    "\n",
    "data_path = '/search/odin/data/summarization_data/'\n",
    "\n",
    "summ1k_path = data_path + 'custom_data/integrated_train_data_1k'\n",
    "summ5k_path = data_path + 'custom_data/integrated_train_data_5k'\n",
    "summ10k_path = data_path + 'custom_data/integrated_train_data_10k'\n",
    "\n",
    "summ_paths = [summ1k_path, summ5k_path, summ10k_path]"
   ]
  },
  {
   "cell_type": "code",
   "execution_count": 2,
   "metadata": {},
   "outputs": [],
   "source": [
    "# Auxiliary functions\n",
    "def calcNonChineseRate(text):\n",
    "    non_chinese_sum = 0\n",
    "    for char in text:\n",
    "        if not ('\\u4e00' <= char <= '\\u9fa5'):\n",
    "            non_chinese_sum += 1\n",
    "    return (non_chinese_sum) / len(text)"
   ]
  },
  {
   "cell_type": "code",
   "execution_count": 3,
   "metadata": {},
   "outputs": [],
   "source": [
    "# washing pipeline\n",
    "def wash_data(collector):\n",
    "    # discard data if it has too many non-Chinese charactors\n",
    "    for i in range(len(collector.data) - 1, -1, -1):\n",
    "        if(calcNonChineseRate(collector.data[i][\"text\"]) > 0.25):\n",
    "            collector.pop(i)"
   ]
  },
  {
   "cell_type": "code",
   "execution_count": 3,
   "metadata": {
    "tags": []
   },
   "outputs": [
    {
     "output_type": "stream",
     "name": "stdout",
     "text": "{'summary': '10月22托福独立写作小范围预测，女神4次命中原题', 'text': \"本次预测由天道托福写作名师曲凯琨老师执笔。天道曲凯琨老师已经多次连续命中托福考试原题，快来看看10月22日的独立写作预测吧！10.22独立写作预测针对10月22日的托福考试，我们为童鞋们推荐以下题目进行考前准备：1社会生活Inmoderntimes，grandparentscannotgivetheirgrandchildrenusefuladvicebecausetheworldoftodayandtheworldof50yearsagoaretoodifferent.Doyouagreeordisagreewiththefollowingstatement?Itiseasiertomaintainhealthnowthaninthepast.Doyouagreeordisagreewiththestatement:Nowadays，teachershavelessinfluenceonyoungpeoplethanbefore.其他类似题目：Doyouagreeordisagreewiththefollowingstatement?Nowadayspeopleshowlessrespecttoteachersthaninthepast.Doyouagreeordisagreewiththefollowingstatement?Teachingwasaharderjobinthepastthanitistoday.Doyouagreeordisagreewiththestatement:Thereisnogoodreasontobeimpolite(rude)toanotherperson.Doyouagreeordisagreewiththestatement:Therulesthatthewholesocietiestodayexpecttoyoungpeopletofollowandobeyaretoostrict.其他类似题目：Doyouagreeordisagreewiththefollowingstatement?Oursocietytodayissobusyandcrowdedthatpeopledonotneedtobepolitetoeachother.Doyouagreeordisagreewiththefollowingstatement?Peoplenowcanbetterprotecttheenvironmentthantheycouldinthepast.其他类似题目：Doyouagreeordisagreewiththefollowingstatement?Peopleinthepastaremoreinterestedinimprovingtheirneighborhood(theareawheretheylive)thannow.Whichofthefollowingwouldyouchangetoimproveyourhealth:1.Thekindoffoodyoueat2.Theamountofexercise3.TheamountofstressDoyouagreeordisagreewiththefollowingstatement?Inthepastyoungpeoplearemoredependedontheirparentsinmakingdecision.Today，youngpeoplearebetterabletomakedecisionsintheirownlives.其他类似题目：Doyouagreeordisagreewiththefollowingstatement?Parentsnowspendtoomuchtimeondeterminingthefutureoftheirchildren;childrenshouldbeallowedtomaketheirownchoices.Doyouagreeordisagreewiththefollowingstatement?Itiseasiertobeaneducatedpersonthanitwasinthepast.其他类似题目：Doyouagreeordisagreewiththefollowingstatement?Itiseasiertobewell-educatednowthanthepast.Doyouagreeordisagreewiththefollowingstatement:Youngpeopletodayaremorelikelytoinvesttheirtimeandeffortonimprovingtheworldthanyoungpeopleinthepast.其他类似题目：Doyouagreeordisagreewiththefollowingstatement?Youngpeopletodayaremorelikelytoinvesttheirtimeandeffortonimprovingtheworldthanyoungpeopleinthepast.Doyouagreeordisagreewiththefollowingstatement:Nowadayspeoplearemorewillingtohelpthepeoplewhotheydon’tknow(Forexample，givingfoodandclothestothepeoplewhoneedthem)thantheywereinthepast.Doyouagreeordisagreewiththefollowingstatement?Livinginacityismoresatisfyingthanlivinginacountry.其他类似题目：Doyouagreeordisagreewiththefollowingstatement?Peopleliveinthecountrysidearehappierthanthoseliveinthecity.Peoplewhomoveoutofnativevillageortownaremoresuccessfulandhappierthanpeoplewhostayintheirnativevillageortown.Doyouagreeordisagreewiththefollowingstatement?Thefoodweeattodayismuchhealthierthaninthepast.Doyouagreeordisagreewiththefollowingstatement?Peoplewerefriendlierinthepastthantheyarenow.Doyouagreeordisagreewiththefollowingstatement?Nowadays，itismoreimportantforpeopletohavedinnerregularlywithitsfamily.2价值观Doyouagreeordisagreewiththefollowingstatement:Itisimpossibletobecompletelyhonestwithyourfriend.Gettingadvicefromfriendswhoareolderthanyouismorevaluablethangettingadvicefromfriendsofyourownage.Whenyouareassignedanimportantpresentationforworkorschool，youprefertoworkonitrightawaysothatyoucanworkonitalittlebiteveryday，orwaituntilyouhaveagoodideaaboutthepresentation.其他类似题目：Peoplewhokeeptheirroomcleanandtidyaremorelikelytobesuccessfulinthefuture.Doyouagreeordisagreewiththefollowingstatement?Advertisingtodayislesshonestthanitwasinthepast.Forthatreason，itislessusefulforpeopletochoosewhattheywanttobuy.Doyouagreeordisagreewiththefollowingstatement?Ifyouareselectingaleaderforastudentorganization，honestyisthemostimportanttoconsiderindecidingwhomtovotefor.其他类似题目：Themostimportantcharacteristicforapoliticalorbusinessleaderistheabilitytoaccepttheresponsibilityfortheirmistakes.Themostimportantcharacteristictoasuccessfulpoliticianorleaderisgoodcommunicationskills.Aneffectiveleaderwillmakeothersfeelliketheyareapartofmakingdecisions.Whenleadingagroupandmostpeopletalk，bestleadersalwaysspendmoretimelisteningtoothers’ideas.Aleadershouldhavestrongopinionsandnotchangehis/heropinionsThebestleadersarethosewhoarewillingtoadmitwhentheymadeabaddecision.Aleadershouldadmitiftheymadeabaddecision.Talentedpeople'sleadershipisbornbynaturalandcan'tbelearnedbypeople.3科技类Doyouagreeordisagreewiththefollowingstatement:Whenclassmatesorcolleaguescommunicateaboutacertainproject，itisbetterforthemtoworkinpersonthanbye-mails.其他类似题目：Somepeoplebelievethatteachersshouldcommunicatewithstudentsinclass.Othersbelievethatteachersshouldcommunicatewithstudentsbysendingthememails.Whichwaydoyouthinkisbetter?Doyouagreeordisagreewiththefollowingstatement?Peopleshouldusenewtechnologiessuchassocialmediaandtextmessagingtocommunicatewitheachother.Doyouagreeordisagreewiththefollowingstatement:Peoplenowadaysspendmuchmoretimethantheyshouldusingtextmessagesandnewtechnologiessuchassocialmediatocommunicatewitheachother.Doyouagreeordisagreewiththefollowingstatement:Itisbetterforcolleaguesorclassmatestocommunicateinpersonthanthroughemailsinordertodoaproject.Somepeopleprefertobuytechnologicaldevicesassoonastheyareavailabletothepublic，whileotherpeopleprefertowait.Whichdoyouprefer?类似:Somepeopleprefertobuyinnovativehigh-techproductslikecellphonesandcomputerswhentheyfirstcameout，otherswouldbuythemafterthepricehasbeendecreased.Whichdoyouprefer?Doyouagreeordisagreewiththefollowingstatement:Peopleoftenbuyproductsnotbecausetheyreallyneedthembutbecauseotherpeoplehavethem.4休闲和媒体类Somepeopleliketorecordtheirlifebysharingpicturesandotherinformationonsocialnetworkingsites.Otherskeepthisinformationtothemselvesandnevershareitonline.Whichdoyouprefer?Doyouagreeordisagreewiththefollowingstatement?Theopinionsofcelebrities，suchasentertainersandathletes，aremoreimportanttotheyoungerpeoplethantheyaretotheolderpeople.Doyouagreeordisagreewiththefollowingstatement?Professionalathletesorperformersshouldn’tbeinvolvedinpolitics.Doyouagreeordisagreewiththefollowingstatement?Visitingmuseumisthebestwaytolearnaboutthecountry.Whichofthefollowingdoyouthinkcontributemosttoanenjoyablevacation?1.Goodfood;2.Goodlocation;3.Goodfriendstotravelwith.5教育类Doyouagreeordisagreewiththefollowingstatement?Thegovernmentshouldspendtheirmoneyonveryyoungchildren'educationratherthanonuniversityDoyouagreeordisagreewiththefollowingstatement?Ratherthanhelptheirchildrenwithschoolwork，parentsshouldencouragethemtodoschoolworkindependently.Somepeoplethinkuniversityprofessorsshouldspendmoretimedoingresearchwhileothersthinktheyshouldspendmoretimeeducatingstudents.Whatonedoyouprefer?Doyouagreeordisagreewiththefollowingstatement?Parentsshouldmakesuggestiontotheteacherifparentsfindtheteachingmethodisnotright.Somepeoplesaythatteachersandparentsshoulddecidewhatassignmentoractivitieschildrenshoulddoafterschool.Otherssaythatchildrenshouldmakethesedecisionsontheirown.Whichviewdoyouagreewith?类似：Parentsshouldlettheirchildrentomakemistakesandlearnfromthesemistakes.Doyouagreeordisagreewiththefollowingstatement:Teachers'performanceshouldbeevaluatedbystudentsratherthanbyotherteachers.类似：Teachersshouldbepaidaccordingtohowwelltheirstudentsperform.Doyouagreeordisagreewiththefollowingstatement?Childrenshouldspendallthetimeonplayingandstudying;theyshouldn’tberequiredtohelpfamilywithhouseholdchoressuchascookingetc.类似：Childrenspendtimeonplayinggamesorsportsordoingschoolworkwithotherchildrenwhentheirparentsaretoobusytoplaywiththem.Shouldparentsspendmoretimeplayinggamesordoingsportswiththeirchildrenorshouldtheyspendmoretimehelpingtheirchildrenwiththeirschoolwork?Doyouagreeordisagreewiththefollowingopinion?Participatingactivitiesinorganizationsandclubsisasimportantasacademicstudyforstudents.Doyouagreeordisagreewiththefollowingstatement?Allschoolteachersshouldberequiredtotakecourseseveryfiveyearstoupdatetheirknowledge.Somestudentsprefertohavetheirfinalgradesdeterminedbynumeroussmallassignments，whereasothersprefertohavetheirfinalgradesdeterminedbyonlyafewlargeones.Whichdoyouprefer?Doyouagreeordisagreewiththefollowingopinion?Themostimportantgoalofeducationistohelppeopleeducatethemselves?Doyouagreeordisagreewiththefollowingstatement?Parentsmusthavestrictrulestohelptheirchildrentobesuccessful.Doyouagreeordisagreewiththefollowingstatement:Themostimportantthingpeoplelearntisfromfamilies.Doyouagreeordisagreewiththefollowingstatement?Alluniversitystudentsshouldberequiredtotakebasicsciencecoursesevenifitisnotthefieldoftheirstudy.类似相关题目：Doyouagreeordisagreewiththefollowingstatement?Universitiesshouldrequirealltheirstudentstolearnaboutforeignculturesaswellastheirownculture.Alluniversitystudentsshouldberequiredtotakehistorycoursesnomatterwhatfieldtheystudy.Alluniversitystudentsshouldberequiredtotakebasicfinancecourseseveniftheyarenotinthecareergoal.Doyouagreeordisagreewiththefollowingstatement?Theuniversityshouldinvestinthesocialactivitiesratherthanimprovethedietofstudents.Somepeoplesaythatteachersandparentsshoulddecidewhatassignmentoractivitieschildrenshoulddoafterschool.Otherssaythatchildrenshouldmakethesedecisionsontheirown.Whichviewdoyouagreewith?6工作类Doyouagreeordisagreewiththefollowingstatement?Employeeswhoalwaysfollowtheirsupervisor'sinstructionsaremorevaluabletotheircompaniesthanemployeeswhotrytofindneworbetterways.Doyouagreeordisagreewiththefollowingstatement:Themoremoneypeoplehave，themoretheyshouldgiveawaytocharity.Doyouagreeordisagreewiththefollowingstatement?Theworkingknowledgeandskillsaremoreimportantinone'scareerlifethantheabilitytoadapttonewconditions.7朋友类Doyouagreeordisagreewiththefollowingstatement:Twopeoplecannotbefriendswitheachotherifonehasmoremoneythantheother.Whichwaydoyouthinkisthebestforastudenttomakenewfriends:1.joiningasportsteam，2.participatingincommunityactivities，3.traveling.Doyouagreeordisagreewiththefollowingstatement:Whenyouhavebeenfriendswithsomeoneforalongtime，itisimportantforyoutocontinuethefriendshipevenifthatpersondoessomethingyoudonotlike.8政府类Doyouagreeordisagreewiththefollowingstatement?Governmentsandcompaniesshouldsharetheirscientificdiscoverieswithothers/thegovernmentandbusinessesshouldnotkeepanydiscoveriesinsecret.类似相关题目：Governmentshouldsupportscientificresearcheveniftheresearchdoesnothaveanypracticaluse.Doyouagreeordisagreewiththefollowingstatement?Itisimportantforgovernmenttoprovidemoneyforthingsthatarebeautifulnotjustforthingsthatarepractical.类似相关题目：It’smoreimportantforthegovernmenttospendmoneytobuildartmuseumsandmusicperformancecentersthantobuildrecreationalfacilities(suchasswimmingpoolandplaygrounds).Doyouagreeordisagreewiththefollowingstatement?Governmentshouldspendmoneyontheconstructionofpublicparksthanbuildingasportfieldforstudents9投资类Theschoolhasbeenfundingforstudentstoparticipateindifferenttypesofactivities，butthisyear，sincethelackofmoney，theschoolwillfundoneactivity，whichonedoyouthinkistheonetheschoolshouldfund:sports，artsandvolunteering(helpdevelopmentofcommunity)Thecommunityyouliveinisplanningonsettingupnewfacilities，whichofthefollowingdoyouthinkwouldbenefitthecommunitymost?1.ashoppingmall2.anartcenter3.ahotel类似相关题目：Yourcommunityhasdecidedtobuymorespacetodevelopitseconomy.Whichdoyouthinkthespaceshouldbebuiltinto，ashoppingmall，atheater(musiccenterordrama)，orahotel?0其他次重点题目Governmentsshouldfocusitsbudgetsmoreonenvironmentalprotectionthanoneconomicdevelopment.Studentsaremoreinterestedinpoliticstodaythanthoseinthepast.Peoplecaremoreaboutpublicrecognitionthanaboutmoney.Evenifnomoremoneyisgiven，publicrecognitioncanstillmakepeopleworkharder.Doyouagreeordisagreewiththefollowingstatement?Thegovernmentshouldsupportartistsratherthanallowthemtosupportthemselves.Itisimportanttomakesurethatothersknowaboutyourstrengthsandaccomplishments;ifyouarenotso，youwillbeneversuccessfulinlife.MoviesandTVprogramsmadeinone’sowncountryaremoreinterestingthanthosemadeinothercountries.Itiseasierforparentstoraisechildrennowadaysthan50yearsago.Thepersonalandwork-relatedchallengesthatyoungpeoplefacetodayarenotverydifferentfromthechallengestheirparentsandgrandparentsfacedinthepast.Peoplewillfeelhappieriftheyhavefewerpossessions?Peoplerelyontheirneighborslessnowthaninthepast.Itisimpossibletobecompletelyhonestwithyourfriends.Itisimportanttohaverulesaboutthetypeofclothingthatpeopleareallowedtowearatworkandatschool.Inordertosucceed，weshouldbemorelikeothersthanbedifferentfromothers.Studentscanusetheirmobilephonestosurfontheinternetorlistentomusicwhiledoingtheirhomework.Itisbetterforpeopletohavefriendswhoareintelligentthantohavefriendswhohaveagoodsenseofhumor.本文为天道教育曲凯琨老师原创文章，转载请注明出处和作者，违者必究!有数据，有故事，懂留学，更热爱梦想。留学资讯一手掌握!天道教育微信订阅号：tdpeixun\"}\n"
    }
   ],
   "source": [
    "# example of useless training data\n",
    "# print(collector1k.data[18])"
   ]
  },
  {
   "cell_type": "code",
   "execution_count": 32,
   "metadata": {
    "tags": []
   },
   "outputs": [
    {
     "output_type": "stream",
     "name": "stdout",
     "text": "aps安排送apsodfajpsodfjpaosdiasldfapdsj\n"
    }
   ],
   "source": [
    "import re\n",
    "\n",
    "branket_pattern = \"【[^】]*】|\\[[^\\]]*\\]|（[^）]*）|\\([^\\)]\\)\"\n",
    "test_text = \"aps【asdfpopasdoifpasd】安排送[asdfasdfpqoifwqpoefw]apsodfajpsodfjpaosdi（apsodfpaa）asldfapdsj\"\n",
    "re_text = re.sub(branket_pattern, \"\", test_text)\n",
    "print(re_text)"
   ]
  },
  {
   "cell_type": "code",
   "execution_count": 43,
   "metadata": {
    "tags": []
   },
   "outputs": [
    {
     "output_type": "stream",
     "name": "stdout",
     "text": "loading from file: /search/odin/data/summarization_data/custom_data/integrated_train_data_10k\nloading finished. Time: 17\n---------------average length --------------\nsummary: 22.068766\ntext: 15962.217580\n-----------------------max min length --------------\nmax text length: 356749\nmin text length: 10000\n----------------------text number statistics ---------------\n0+:\t11081\t100.00\n1000+:\t11081\t100.00\n2000+:\t11081\t100.00\n3000+:\t11081\t100.00\n4000+:\t11081\t100.00\n5000+:\t11081\t100.00\n6000+:\t11081\t100.00\n7000+:\t11081\t100.00\n8000+:\t11081\t100.00\n9000+:\t11081\t100.00\n10000+:\t11081\t100.00\n11000+:\t8876\t80.10\n12000+:\t7023\t63.38\n13000+:\t5591\t50.46\n14000+:\t4464\t40.29\n15000+:\t3502\t31.60\n16000+:\t2788\t25.16\n17000+:\t2206\t19.91\n18000+:\t1784\t16.10\n19000+:\t1454\t13.12\n20000+:\t1173\t10.59\n"
    }
   ],
   "source": [
    "from SumCollector import SumCollector\n",
    "import time\n",
    "\n",
    "collector10k = SumCollector()\n",
    "collector10k.load_data(\"/search/odin/data/summarization_data/custom_data/integrated_train_data_10k\")\n",
    "\n",
    "collector10k.print_stats()"
   ]
  },
  {
   "cell_type": "code",
   "execution_count": 59,
   "metadata": {},
   "outputs": [],
   "source": [
    "for i in range(len(collector10k.data) - 1, -1, -1):\n",
    "    if(calcNonChineseRate(collector10k.data[i][\"text\"]) > 0.25):\n",
    "        collector10k.pop(i)"
   ]
  },
  {
   "cell_type": "code",
   "execution_count": 94,
   "metadata": {
    "tags": []
   },
   "outputs": [
    {
     "output_type": "stream",
     "name": "stdout",
     "text": "58种大虾的做法，太全了！\n整理了54种虾的做法，很全！不想一直吃清蒸和炒虾球的一定要收！ 龙井虾仁材料：新鲜虾仁，龙井新茶或者鲜茶叶，鸡蛋，味精，绍酒，精盐，熟猪油。做法：1、虾仁用清水反复冲洗，盛入碗内，放入盐和鸡蛋清，用筷子轻轻搅拌至有黏性时加入湿淀粉，加味精搅拌，静置，使虾仁入味。2、将龙井茶用沸水冲泡，1分钟后倒出部分茶汤，茶叶及剩余茶汤待用。3、将炒锅用中火烧热，倒入猪油。猪油四成热时，将虾仁倒入油锅，迅速用筷子划散。待虾仁呈玉白色时起锅，沥去猪油。将虾仁倒入油锅，倒入剩余的茶叶和茶汤，然后烹入绍酒，翻炒数次，起锅装盘。 干烧香辣虾材料：鲜虾、葱姜蒜末。调料：郫县豆瓣酱、番茄酱、料酒、糖、盐。做法：1、鲜虾剪掉虾脚、虾须，去除泥肠，洗净，然后用厨房纸巾抹干水分;2、锅中倒油，七八成热时将虾倒入，炸至变红后即捞出;3、锅中留少许底油，小火煸香葱姜蒜末;4、倒入郫县豆瓣酱和炸好的虾，转中火，烹入料酒和番茄酱快速翻炒;最后调入适量糖和盐，翻炒均匀即可。Tips:1、将虾先炸一下口感就会脆脆的，可以连皮儿吃了;2、收拾好的虾一定要充分抹干水分，要不然入油锅炸的时候油会溅出;3、虾烹制的时间不要太长，时间长了虾肉会发老。 宫保虾球原料：大虾、大杏仁、葱姜蒜、干辣椒、 花椒、盐、白糖、料酒、醋、香油、淀粉、水、食用油。做法：1、大虾洗净去头去壳，背部中间用刀划开，去除虾线;2、处理好的虾仁用料酒、淀粉、少许盐拌匀，腌制片刻入味;3、干辣椒去籽切小段，蒜切片，葱姜切小粒备用;4、将盐、白糖、料酒、醋、淀粉、水、香油拌匀做成调料汁备用;5、锅内油烧至6成热，放入干辣椒和花椒煸炒出香味;6、放入虾仁炒散;7、炒至虾仁断生时，放入葱姜蒜快速翻炒;8、加入调味汁炒匀;9、最后起锅前放入大杏仁拌匀即可。 香辣虾原料：虾、辣酱、豆豉酱、香芹、葱、姜、蒜、红彩椒、绿彩椒。做法：1、将虾洗净剪去虾须;2、加一点绍酒胡椒粉，用淀粉将虾抓匀;3、干辣椒剪成小段备用;4、红彩椒切成菱形块、绿彩椒切成菱形块、葱切段、姜切末，蒜切片，芹菜切段;5、锅热后做油;6、待油变温放入腌好的虾，略煎一下;7、将花椒、大料、小茴香放入碗中做好料头;8、热锅内做油，油变温后放入刚才做好的料头; 9、倒入煎好的辣椒段煸出香味;10、放入蒜片、葱姜末炒出香味;11、放入辣酱炒出红油;12、倒入豆豉酱，炒出香味;13、倒入煎好的虾;14、翻\n"
    }
   ],
   "source": [
    "i = 1301\n",
    "print(collector10k.data[i][\"summary\"])\n",
    "print(collector10k.data[i][\"text\"][:1000])"
   ]
  },
  {
   "cell_type": "code",
   "execution_count": 1,
   "metadata": {
    "tags": []
   },
   "outputs": [
    {
     "output_type": "stream",
     "name": "stdout",
     "text": "loading from file: /search/odin/data/summarization_data/custom_data/washed_train_data_1k\nloading finished. Time: 197\nloading from file: /search/odin/data/summarization_data/custom_data/washed_train_data_5k\nloading finished. Time: 34\nloading from file: /search/odin/data/summarization_data/custom_data/washed_train_data_10k\nloading finished. Time: 13\n---------------average length --------------\nsummary: 21.112867\ntext: 2123.010975\n-----------------------max min length --------------\nmax text length: 95653\nmin text length: 1000\n----------------------text number statistics ---------------\n0+:\t909970\t100.00\n1000+:\t909970\t100.00\n2000+:\t313731\t34.48\n3000+:\t127193\t13.98\n4000+:\t64430\t7.08\n5000+:\t38600\t4.24\n6000+:\t25365\t2.79\n7000+:\t17879\t1.96\n8000+:\t13576\t1.49\n9000+:\t10797\t1.19\n10000+:\t8535\t0.94\n11000+:\t6798\t0.75\n12000+:\t5290\t0.58\n13000+:\t4132\t0.45\n14000+:\t3210\t0.35\n15000+:\t2433\t0.27\n16000+:\t1881\t0.21\n17000+:\t1419\t0.16\n18000+:\t1087\t0.12\n19000+:\t830\t0.09\n20000+:\t626\t0.07\n---------------average length --------------\nsummary: 22.145518\ntext: 8302.112798\n-----------------------max min length --------------\nmax text length: 95653\nmin text length: 5000\n----------------------text number statistics ---------------\n0+:\t38600\t100.00\n1000+:\t38600\t100.00\n2000+:\t38600\t100.00\n3000+:\t38600\t100.00\n4000+:\t38600\t100.00\n5000+:\t38600\t100.00\n6000+:\t25365\t65.71\n7000+:\t17879\t46.32\n8000+:\t13576\t35.17\n9000+:\t10797\t27.97\n10000+:\t8535\t22.11\n11000+:\t6798\t17.61\n12000+:\t5290\t13.70\n13000+:\t4132\t10.70\n14000+:\t3210\t8.32\n15000+:\t2433\t6.30\n16000+:\t1881\t4.87\n17000+:\t1419\t3.68\n18000+:\t1087\t2.82\n19000+:\t830\t2.15\n20000+:\t626\t1.62\n---------------average length --------------\nsummary: 21.227768\ntext: 14403.316579\n-----------------------max min length --------------\nmax text length: 95653\nmin text length: 10000\n----------------------text number statistics ---------------\n0+:\t8535\t100.00\n1000+:\t8535\t100.00\n2000+:\t8535\t100.00\n3000+:\t8535\t100.00\n4000+:\t8535\t100.00\n5000+:\t8535\t100.00\n6000+:\t8535\t100.00\n7000+:\t8535\t100.00\n8000+:\t8535\t100.00\n9000+:\t8535\t100.00\n10000+:\t8535\t100.00\n11000+:\t6798\t79.65\n12000+:\t5290\t61.98\n13000+:\t4132\t48.41\n14000+:\t3210\t37.61\n15000+:\t2433\t28.51\n16000+:\t1881\t22.04\n17000+:\t1419\t16.63\n18000+:\t1087\t12.74\n19000+:\t830\t9.72\n20000+:\t626\t7.33\n"
    }
   ],
   "source": [
    "from SumCollector import SumCollector\n",
    "\n",
    "washed_1k = '/search/odin/data/summarization_data/custom_data/washed_train_data_1k'\n",
    "washed_5k = '/search/odin/data/summarization_data/custom_data/washed_train_data_5k'\n",
    "washed_10k = '/search/odin/data/summarization_data/custom_data/washed_train_data_10k'\n",
    "\n",
    "wc1k = SumCollector()\n",
    "wc1k.load_data(washed_1k)\n",
    "\n",
    "wc5k = SumCollector()\n",
    "wc5k.load_data(washed_5k)\n",
    "\n",
    "wc10k = SumCollector()\n",
    "wc10k.load_data(washed_10k)\n",
    "\n",
    "wc1k.print_stats()\n",
    "wc5k.print_stats()\n",
    "wc10k.print_stats()"
   ]
  },
  {
   "cell_type": "code",
   "execution_count": null,
   "metadata": {},
   "outputs": [],
   "source": []
  }
 ],
 "metadata": {
  "language_info": {
   "codemirror_mode": {
    "name": "ipython",
    "version": 3
   },
   "file_extension": ".py",
   "mimetype": "text/x-python",
   "name": "python",
   "nbconvert_exporter": "python",
   "pygments_lexer": "ipython3",
   "version": "3.7.1-final"
  },
  "orig_nbformat": 2,
  "kernelspec": {
   "name": "python3",
   "display_name": "Python 3"
  }
 },
 "nbformat": 4,
 "nbformat_minor": 2
}