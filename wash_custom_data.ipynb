{
 "cells": [
  {
   "cell_type": "code",
   "execution_count": 1,
   "metadata": {
    "tags": []
   },
   "outputs": [
    {
     "output_type": "stream",
     "name": "stdout",
     "text": "loading from file: /search/odin/data/summarization_data/custom_data/integrated_train_data_1k\nloading finished\n---------------average length --------------\nsummary: 21.574911\ntext: 2193.973984\n-----------------------max min length --------------\nmax text length: 356749\nmin text length: 1000\n----------------------text number statistics ---------------\n0+:\t1050637\t100.00\n1000+:\t1050637\t100.00\n2000+:\t371946\t35.40\n3000+:\t159081\t15.14\n4000+:\t84790\t8.07\n5000+:\t50879\t4.84\n6000+:\t33348\t3.17\n7000+:\t23693\t2.26\n8000+:\t17870\t1.70\n9000+:\t14206\t1.35\n10000+:\t11081\t1.05\n11000+:\t8876\t0.84\n12000+:\t7023\t0.67\n13000+:\t5591\t0.53\n14000+:\t4464\t0.42\n15000+:\t3502\t0.33\n16000+:\t2788\t0.27\n17000+:\t2206\t0.21\n18000+:\t1784\t0.17\n19000+:\t1454\t0.14\n20000+:\t1173\t0.11\n"
    }
   ],
   "source": [
    "from SumCollector import SumCollector\n",
    "\n",
    "data_path = '/search/odin/data/summarization_data/'\n",
    "\n",
    "summ1k_path = data_path + 'custom_data/integrated_train_data_1k'\n",
    "\n",
    "collector1k = SumCollector(1000)\n",
    "\n",
    "collector1k.load_data(summ1k_path)\n",
    "\n",
    "collector1k.print_stats()"
   ]
  },
  {
   "cell_type": "code",
   "execution_count": 23,
   "metadata": {
    "tags": []
   },
   "outputs": [
    {
     "output_type": "stream",
     "name": "stdout",
     "text": "{'summary': 'gRPC.NETCore跨平台学习', 'text': '前些天发布，在.NETFramework中使用gRPC，今天来学习.NETCoregRPC。gRPC的.NETCore包在NuGet上发布了，结合.NETCore实现gRPC完美跨平台。本篇主要讲解.NETCore版gRPC客户端运行在Ubuntu系统上，与局域网内的服务端通信。下面我们来正式开始。在之前的代码基础开发.NETCore版。本文运行环境：服务端：WIN10x64客户端：Ubuntu14.04添加.NETCore版gRPCClient首先我们打开之前的gRPCDemo代码，GitHub：。添加一个.NETCore控制台应用gRPCNETCoreClient然后在gRPCNETCoreClient项目上添加引用：Install-PackageGrpc-Pre移植传统类库至.NETCore类库安装好Grpc以后我们就可以来移植类库了，这里我们首先创建一个gRPCNETCoreDemoClassLibrary。新建好以后我们将project.json文件更改为如下：{\"version\":\"1.0.0-*\"，\"frameworks\":{\"net452\":{\"dependencies\":{\"Grpc\":\"1.0.0\"，\"Grpc.Core\":\"1.0.0\"，\"Google.Protobuf\":\"3.0.0\"，\"System.Interactive.Async\":\"3.0.0\"}}，\"netstandard1.6\":{\"imports\":\"dnxcore50\"，\"dependencies\":{\"NETStandard.Library\":\"1.6.0\"，\"Grpc\":\"1.0.1-pre1\"，\"Grpc.Core\":\"1.0.1-pre1\"，\"Google.Protobuf\":\"3.1.0\"，\"System.Interactive.Async\":\"3.1.0-rc\"}}}}这样类库就能支持.NETFramework4.5.2以及.NETCore。这里我省略了生成代码，直接将gRPCDemo中的类复制过来。然后gRPCNETCoreClient添加gRPCNETCoreDemo引用。gRPCNETCoreClient中Program.cs添加如下代码，基本上和上篇代码一致，新增了控制台编码输出格式。publicclassProgram{publicstaticvoidMain(stringargs){Encoding.RegisterProvider(CodePagesEncodingProvider.Instance);Channelchannel=newChannel(\"127.0.0.1:9007\"，ChannelCredentials.Insecure);varclient=newgRPC.gRPCClient(channel);varreply=client.SayHello(newHelloRequest{Name=\"LineZero.NETCoreClient\"});Console.WriteLine(\"来自\"+reply.Message);channel.ShutdownAsync().Wait();Console.WriteLine(\"任意键退出...\");Console.ReadKey();}}代码编写好以后，我们来执行gRPCServer，然后使用dotnetrun执行gRPCNETCoreClient。成功通信，证明支持.NETCore。发布至Ubuntu系统运行下面将gRPCNETCoreClient发布至Ubuntu系统跨平台运行。代码绑定ip需要稍作调整。查看本地ip是多少，将gRPCServer中的localhost改成本地ip，并将Client的127.0.0.1也改成本地ip。发布gRPCNETCoreClientdotnetpublish将发布后的目录复制到Ubuntu系统。下面先在本地启动Server，然后在Ubuntu系统执行Client。成功在Ubuntu系统上通信，这里服务端是运行在本地，客户端是在另外一台机器上。相关文章：谷歌发布的首款基于HTTP/2和protobuf的RPC框架：GRPCC#中使用gRPCGoogle高性能RPC框架gRPC1.0.0发布原文地址：http://www.cnblogs.com/linezero/p/grpcnetcore.html.NET社区新闻，深度好文，微信中搜索dotNET跨平台或扫描二维码关注'}\n"
    }
   ],
   "source": [
    "print(collector1k.data[18])"
   ]
  },
  {
   "cell_type": "code",
   "execution_count": 34,
   "metadata": {
    "tags": []
   },
   "outputs": [
    {
     "output_type": "stream",
     "name": "stdout",
     "text": "data 0: 0.100533\ndata 1: 0.131115\ndata 2: 0.134710\ndata 3: 0.099907\ndata 4: 0.200185\ndata 5: 0.159322\ndata 6: 0.129796\ndata 7: 0.140423\ndata 8: 0.437965\ndata 9: 0.099919\ndata 10: 0.127820\ndata 11: 0.196833\ndata 12: 0.113445\ndata 13: 0.140059\ndata 14: 0.240822\ndata 15: 0.310583\ndata 16: 0.385445\ndata 17: 0.132239\ndata 18: 0.766809\ndata 19: 0.150020\ndata 20: 0.147898\ndata 21: 0.143722\ndata 22: 0.146402\ndata 23: 0.136282\ndata 24: 0.229358\ndata 25: 0.139620\ndata 26: 0.269706\ndata 27: 0.167508\ndata 28: 0.182079\ndata 29: 0.119363\ndata 30: 0.372683\ndata 31: 0.192935\ndata 32: 0.134542\ndata 33: 0.149601\ndata 34: 0.242845\ndata 35: 0.455237\ndata 36: 0.245728\ndata 37: 0.178069\ndata 38: 0.235241\ndata 39: 0.095761\ndata 40: 0.133536\ndata 41: 0.289835\ndata 42: 0.089631\ndata 43: 0.185113\ndata 44: 0.126646\ndata 45: 0.182787\ndata 46: 0.328516\ndata 47: 0.121480\ndata 48: 0.749553\ndata 49: 0.329200\n"
    }
   ],
   "source": [
    "i = 0\n",
    "for dict in collector1k.data[:50]:\n",
    "    test_text = dict[\"text\"]\n",
    "    test_text.replace()\n",
    "    # print(test_text)\n",
    "    chinese_sum = 0\n",
    "    non_chinese_sum = 0\n",
    "    for char in test_text:\n",
    "        if('\\u4e00' <= char <= '\\u9fa5'):\n",
    "            chinese_sum += 1\n",
    "        else:\n",
    "            non_chinese_sum += 1\n",
    "    #print(chinese_sum)\n",
    "    #print(non_chinese_sum)\n",
    "    print(\"data %d: %f\" % (i, (non_chinese_sum / (chinese_sum + non_chinese_sum))))\n",
    "    i += 1"
   ]
  },
  {
   "cell_type": "code",
   "execution_count": 39,
   "metadata": {
    "tags": []
   },
   "outputs": [
    {
     "output_type": "stream",
     "name": "stdout",
     "text": "{'summary': '跟小米4同价位上代旗舰Note3仅1700元', 'text': '[来自IT168]【IT168什么值得买】作为主打大屏的第三代产品，三星GALAXYNote3不但把Note系列的整体风格延续下来，而且在细节以及做工方面都有明面的提升。目前小编发现三星GALAXYNote3首次跌破2000元大关，竟然给出了1700元的超低价，相当于只用小米4的价格来享受三星的体验。因此如果你打算入手一款大屏智能机，那三星Note3绝对值得你做为优先考虑。联通3G版：GALAXYNote3型号N9006仅售1700元【点击查看详情】移动3G版：GALAXYNote3型号N9008跌至1750元【点击查看详情】电信3G版：GALAXYNote3型号N9009仅售1980元【点击查看详情】需要说明的是，三星GALAXYNote3有多个版本，本文推荐的是联通3G版，由于价格已经是历史新低，甚至比小米还便宜，喜欢三星Note系列的用户可以直接入手了。三星GALAXYNote3联通3G版，数字型号N9006，可支持WCDMA/GSM网络，即联通3G/2G和移动2G网，1700元的售价非常适合联通用户【点击详情】。当然如果您是移动用户也可以考虑移动3G版，数字型号为N9008，可支持移动3G/2G和联通2G网，价格也仅为1750元【点击详情】。虽然是三星上代旗舰，但这款GALAXYNote3的配置却丝毫不落伍，例如配备5.7英寸1080p超大屏幕，使用高通骁龙800处理器，四核2.3GHz的主频。另外还使用3GBRAM+16GBROM的内存组合，配备1300万像素，内置3200毫安的可拆卸电池，运行Android4.4操作系统。这些配置在目前来看依旧是旗舰基准，丝毫不输于其它两千元价位段的产品。当然三星GALAXYNote3的亮点在于做工和系统部分。例如在机身外观的设计非常简洁，背部还采用了柔和兼具纹理的触感设计，手感非常不错。另外在系统方面三星GALAXYNote3的个性化操作确实值得称赞，SPen手写笔也是几大旗舰中最为独特的，对于商务人士来说确实比较方便。小编总结：GALAXYNote3无论是5.7英寸的1080p大屏，还是三星智能化的操作系统，以及主流的旗舰硬件，都对得起一千多的价格，当然不足之处在于不支持4G网络。不过目前4G还在完善当中，这款手机也足够再用1年。当然最重要的是1700元的价格，可以说是小米4的价格三星的体验，如果你有大屏需求，不用过多忧虑，入手Note3确实是明智之举【点击详情】。'}\n"
    }
   ],
   "source": [
    "print(collector1k.data[30])"
   ]
  },
  {
   "cell_type": "code",
   "execution_count": 46,
   "metadata": {
    "tags": []
   },
   "outputs": [
    {
     "output_type": "stream",
     "name": "stdout",
     "text": "[来自IT168]作为主打大屏的第三代产品，三星GALAXYNote3不但把Note系列的整体风格延续下来，而且在细节以及做工方面都有明面的提升。目前小编发现三星GALAXYNote3首次跌破2000元大关，竟然给出了1700元的超低价，相当于只用小米4的价格来享受三星的体验。因此如果你打算入手一款大屏智能机，那三星Note3绝对值得你做为优先考虑。联通3G版：GALAXYNote3型号N9006仅售1700元移动3G版：GALAXYNote3型号N9008跌至1750元电信3G版：GALAXYNote3型号N9009仅售1980元需要说明的是，三星GALAXYNote3有多个版本，本文推荐的是联通3G版，由于价格已经是历史新低，甚至比小米还便宜，喜欢三星Note系列的用户可以直接入手了。三星GALAXYNote3联通3G版，数字型号N9006，可支持WCDMA/GSM网络，即联通3G/2G和移动2G网，1700元的售价非常适合联通用户。当然如果您是移动用户也可以考虑移动3G版，数字型号为N9008，可支持移动3G/2G和联通2G网，价格也仅为1750元。虽然是三星上代旗舰，但这款GALAXYNote3的配置却丝毫不落伍，例如配备5.7英寸1080p超大屏幕，使用高通骁龙800处理器，四核2.3GHz的主频。另外还使用3GBRAM+16GBROM的内存组合，配备1300万像素，内置3200毫安的可拆卸电池，运行Android4.4操作系统。这些配置在目前来看依旧是旗舰基准，丝毫不输于其它两千元价位段的产品。当然三星GALAXYNote3的亮点在于做工和系统部分。例如在机身外观的设计非常简洁，背部还采用了柔和兼具纹理的触感设计，手感非常不错。另外在系统方面三星GALAXYNote3的个性化操作确实值得称赞，SPen手写笔也是几大旗舰中最为独特的，对于商务人士来说确实比较方便。小编总结：GALAXYNote3无论是5.7英寸的1080p大屏，还是三星智能化的操作系统，以及主流的旗舰硬件，都对得起一千多的价格，当然不足之处在于不支持4G网络。不过目前4G还在完善当中，这款手机也足够再用1年。当然最重要的是1700元的价格，可以说是小米4的价格三星的体验，如果你有大屏需求，不用过多忧虑，入手Note3确实是明智之举。\n"
    }
   ],
   "source": [
    "import re\n",
    "\n",
    "branket_pattern = \"【[^】]*】| \\\\[\\\\]\"\n",
    "test_text = collector1k.data[30][\"text\"]\n",
    "re_text = re.sub(branket_pattern, \"\", test_text)\n",
    "print(re_text)"
   ]
  }
 ],
 "metadata": {
  "language_info": {
   "codemirror_mode": {
    "name": "ipython",
    "version": 3
   },
   "file_extension": ".py",
   "mimetype": "text/x-python",
   "name": "python",
   "nbconvert_exporter": "python",
   "pygments_lexer": "ipython3",
   "version": "3.7.1-final"
  },
  "orig_nbformat": 2,
  "kernelspec": {
   "name": "python3",
   "display_name": "Python 3"
  }
 },
 "nbformat": 4,
 "nbformat_minor": 2
}